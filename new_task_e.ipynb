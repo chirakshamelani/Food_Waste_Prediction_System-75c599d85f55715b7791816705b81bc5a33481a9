{
 "cells": [
  {
   "cell_type": "code",
   "execution_count": 1,
   "id": "55ff4f78-6d31-4461-b6ee-25d321dc2ca3",
   "metadata": {},
   "outputs": [],
   "source": [
    "import pandas as pd\n",
    "from sklearn.preprocessing import StandardScaler\n",
    "import joblib\n",
    "\n",
    "# STEP 0: Load your dataset\n",
    "df = pd.read_csv('train.csv')\n",
    "\n",
    "# STEP 1: Normalize casing and trim\n",
    "df['staff_experience'] = df['staff_experience'].str.strip().str.lower()\n",
    "df['waste_category'] = df['waste_category'].str.strip().str.lower()\n",
    "\n",
    "# STEP 2: Fill missing values (explicit assignment avoids chained assignment warning)\n",
    "most_common_experience = df['staff_experience'].mode()[0]\n",
    "df['staff_experience'] = df['staff_experience'].fillna(most_common_experience)\n",
    "\n",
    "# STEP 3: Cap extreme temperature values safely\n",
    "df['temperature_C'] = df['temperature_C'].clip(lower=5, upper=40)\n",
    "\n",
    "# STEP 4: Ensure numeric types then scale numerical features (with .loc)\n",
    "numerical_cols = ['meals_served', 'kitchen_staff', 'temperature_C',\n",
    "                  'humidity_percent', 'past_waste_kg']\n",
    "df[numerical_cols] = df[numerical_cols].astype(float)\n",
    "\n",
    "scaler = StandardScaler()\n",
    "df.loc[:, numerical_cols] = scaler.fit_transform(df[numerical_cols])\n",
    "\n",
    "# Save the scaler\n",
    "joblib.dump(scaler, 'scaler.pkl')\n",
    "\n",
    "# STEP 5: One-Hot Encode categorical variables (explicit DataFrame assignment)\n",
    "df = pd.get_dummies(df, columns=['staff_experience', 'waste_category'], drop_first=True)\n",
    "\n",
    "# STEP 6: Drop irrelevant columns\n",
    "df = df.drop(columns=['ID', 'date'], errors='ignore')\n",
    "\n",
    "# Step 7: Separate features and target label\n",
    "X = df.drop(columns=['food_waste_kg'])\n",
    "y = df['food_waste_kg']\n"
   ]
  },
  {
   "cell_type": "code",
   "execution_count": 2,
   "id": "5e27948f-0e26-4c00-88fc-3b44e2d4af7a",
   "metadata": {},
   "outputs": [
    {
     "name": "stdout",
     "output_type": "stream",
     "text": [
      "Mean Absolute Error (MAE): 4.70\n",
      "R² Score: 0.91\n"
     ]
    }
   ],
   "source": [
    "from sklearn.model_selection import train_test_split\n",
    "from sklearn.ensemble import RandomForestRegressor\n",
    "from sklearn.metrics import mean_absolute_error, r2_score\n",
    "\n",
    "# Split the data (80% train, 20% validation)\n",
    "X_train, X_val, y_train, y_val = train_test_split(X, y, test_size=0.2, random_state=42)\n",
    "\n",
    "# Create and train the model\n",
    "rf_model = RandomForestRegressor(n_estimators=100, random_state=42)\n",
    "rf_model.fit(X_train, y_train)\n",
    "\n",
    "# Predict on validation set\n",
    "y_pred = rf_model.predict(X_val)\n",
    "\n",
    "# Evaluate the model\n",
    "mae = mean_absolute_error(y_val, y_pred)\n",
    "r2 = r2_score(y_val, y_pred)\n",
    "\n",
    "print(f\"Mean Absolute Error (MAE): {mae:.2f}\")\n",
    "print(f\"R² Score: {r2:.2f}\")\n",
    "\n"
   ]
  },
  {
   "cell_type": "code",
   "execution_count": 3,
   "id": "05f51439-06bc-4703-aa12-06264e49e7ff",
   "metadata": {},
   "outputs": [
    {
     "data": {
      "text/plain": [
       "['scaler.pkl']"
      ]
     },
     "execution_count": 3,
     "metadata": {},
     "output_type": "execute_result"
    }
   ],
   "source": [
    "import joblib\n",
    "\n",
    "# Save model\n",
    "joblib.dump(rf_model, \"model.pkl\")\n",
    "\n",
    "# Save scaler\n",
    "joblib.dump(scaler, \"scaler.pkl\")\n"
   ]
  },
  {
   "cell_type": "code",
   "execution_count": null,
   "id": "66425a07-e96a-4c4f-a667-c6e16ced8088",
   "metadata": {},
   "outputs": [],
   "source": []
  }
 ],
 "metadata": {
  "kernelspec": {
   "display_name": "Python [conda env:base] *",
   "language": "python",
   "name": "conda-base-py"
  },
  "language_info": {
   "codemirror_mode": {
    "name": "ipython",
    "version": 3
   },
   "file_extension": ".py",
   "mimetype": "text/x-python",
   "name": "python",
   "nbconvert_exporter": "python",
   "pygments_lexer": "ipython3",
   "version": "3.13.5"
  }
 },
 "nbformat": 4,
 "nbformat_minor": 5
}
